{
  "nbformat": 4,
  "nbformat_minor": 0,
  "metadata": {
    "colab": {
      "provenance": [],
      "authorship_tag": "ABX9TyNuUa42InxubbFVMrxCBsOI",
      "include_colab_link": true
    },
    "kernelspec": {
      "name": "python3",
      "display_name": "Python 3"
    },
    "language_info": {
      "name": "python"
    }
  },
  "cells": [
    {
      "cell_type": "markdown",
      "metadata": {
        "id": "view-in-github",
        "colab_type": "text"
      },
      "source": [
        "<a href=\"https://colab.research.google.com/github/Suraj5188/Python_Numpy/blob/main/1_Numpy.ipynb\" target=\"_parent\"><img src=\"https://colab.research.google.com/assets/colab-badge.svg\" alt=\"Open In Colab\"/></a>"
      ]
    },
    {
      "cell_type": "markdown",
      "source": [
        "# **Numpy Part_1**"
      ],
      "metadata": {
        "id": "-2CbomddyaIZ"
      }
    },
    {
      "cell_type": "markdown",
      "source": [
        "![image](https://numpy.org/images/twitter-image.jpg)"
      ],
      "metadata": {
        "id": "qWHyk8aoltLc"
      }
    },
    {
      "cell_type": "markdown",
      "source": [
        "#**What is NumPy**\n",
        "\n",
        "NumPy stands for numeric python which is a python package for the computation and processing of the multidimensional and single dimensional array elements.\n",
        "\n",
        "NumPy provides a convenient and efficient way to handle the vast amount of data. NumPy is also very convenient with Matrix multiplication and data reshaping. NumPy is fast which makes it reasonable to work with a large set of data.\n",
        "\n",
        "**There are the following advantages of using NumPy for data analysis.**\n",
        "\n",
        "1. NumPy performs array-oriented computing.\n",
        "2. It efficiently implements the multidimensional arrays.\n",
        "3. It performs scientific computations.\n",
        "4. It is capable of performing Fourier Transform and reshaping   the data stored in multidimensional arrays.\n",
        "5.NumPy provides the in-built functions for linear algebra and random number generation."
      ],
      "metadata": {
        "id": "6XcH4WpYkwqr"
      }
    },
    {
      "cell_type": "markdown",
      "source": [
        "#**NumPy Ndarray:**\n",
        "\n",
        "* Ndarray is the n-dimensional array object defined in the numpy \n",
        "which stores the collection of the similar type of elements. In other words, we can define a ndarray as the collection of the data type (dtype) objects.\n",
        "\n",
        "* The ndarray object can be accessed by using the 0 based indexing. Each element of the Array object contains the same size in the memory."
      ],
      "metadata": {
        "id": "v5EBboc8lR1w"
      }
    },
    {
      "cell_type": "markdown",
      "source": [
        "![image2](https://cdn.educba.com/academy/wp-content/uploads/2019/12/numpy-ndarray.png)"
      ],
      "metadata": {
        "id": "0UEV1SrRl7dQ"
      }
    },
    {
      "cell_type": "markdown",
      "source": [
        "**Creating a ndarray object**"
      ],
      "metadata": {
        "id": "KKAgkjX9mbZg"
      }
    },
    {
      "cell_type": "code",
      "execution_count": null,
      "metadata": {
        "id": "dtOLOTgt4cCi",
        "colab": {
          "base_uri": "https://localhost:8080/"
        },
        "outputId": "94348577-4ab9-44e6-d1ee-ca1adc94dcae"
      },
      "outputs": [
        {
          "output_type": "stream",
          "name": "stdout",
          "text": [
            "<built-in function array>\n"
          ]
        }
      ],
      "source": [
        "import numpy as np\n",
        "\n",
        "a=np.array\n",
        "\n",
        "print(a)"
      ]
    },
    {
      "cell_type": "code",
      "source": [
        "# To create single dimensional array\n",
        "\n",
        "a=np.array([10,20,30,40,50])\n",
        "#print(a)\n",
        "a\n"
      ],
      "metadata": {
        "colab": {
          "base_uri": "https://localhost:8080/"
        },
        "id": "qbTnVVZ-mukj",
        "outputId": "6036b003-855c-4cef-8122-ebcea4c1f84f"
      },
      "execution_count": null,
      "outputs": [
        {
          "output_type": "execute_result",
          "data": {
            "text/plain": [
              "array([10, 20, 30, 40, 50])"
            ]
          },
          "metadata": {},
          "execution_count": 2
        }
      ]
    },
    {
      "cell_type": "code",
      "source": [
        "# Now we access the element\n",
        "\n",
        "a[2]"
      ],
      "metadata": {
        "colab": {
          "base_uri": "https://localhost:8080/"
        },
        "id": "9EGuop9WpsdF",
        "outputId": "906b2f68-e5ae-45a8-ed55-8817269086e2"
      },
      "execution_count": null,
      "outputs": [
        {
          "output_type": "execute_result",
          "data": {
            "text/plain": [
              "30"
            ]
          },
          "metadata": {},
          "execution_count": 3
        }
      ]
    },
    {
      "cell_type": "code",
      "source": [
        "# Now creating multi dimensioanl array\n",
        "\n",
        "a=np.array([[1,2,3],[4,5,6]])\n",
        "a"
      ],
      "metadata": {
        "colab": {
          "base_uri": "https://localhost:8080/"
        },
        "id": "PtDCFXljqC0y",
        "outputId": "001ba0ac-26bc-4c71-e693-e3f15f612130"
      },
      "execution_count": null,
      "outputs": [
        {
          "output_type": "execute_result",
          "data": {
            "text/plain": [
              "array([[1, 2, 3],\n",
              "       [4, 5, 6]])"
            ]
          },
          "metadata": {},
          "execution_count": 4
        }
      ]
    },
    {
      "cell_type": "code",
      "source": [
        "# Now we also change the data type\n",
        "\n",
        "# Example-1\n",
        "a=np.array([[1,2,3],[4,5,6],[7,8,9]],complex)\n",
        "a"
      ],
      "metadata": {
        "colab": {
          "base_uri": "https://localhost:8080/"
        },
        "id": "b_lG5XK6q7rk",
        "outputId": "a0772604-9473-48bb-e25c-2d5f17c2905d"
      },
      "execution_count": null,
      "outputs": [
        {
          "output_type": "execute_result",
          "data": {
            "text/plain": [
              "array([[1.+0.j, 2.+0.j, 3.+0.j],\n",
              "       [4.+0.j, 5.+0.j, 6.+0.j],\n",
              "       [7.+0.j, 8.+0.j, 9.+0.j]])"
            ]
          },
          "metadata": {},
          "execution_count": 5
        }
      ]
    },
    {
      "cell_type": "code",
      "source": [
        "# Example -2\n",
        "\n",
        "a=np.array([[1,2,3,4,5],[6,7,8,9,10]],float)\n",
        "a"
      ],
      "metadata": {
        "colab": {
          "base_uri": "https://localhost:8080/"
        },
        "id": "9v2FGVvrrWGU",
        "outputId": "3a0f8ce8-3386-41e8-800d-0706fbd0f60e"
      },
      "execution_count": null,
      "outputs": [
        {
          "output_type": "execute_result",
          "data": {
            "text/plain": [
              "array([[ 1.,  2.,  3.,  4.,  5.],\n",
              "       [ 6.,  7.,  8.,  9., 10.]])"
            ]
          },
          "metadata": {},
          "execution_count": 6
        }
      ]
    },
    {
      "cell_type": "code",
      "source": [
        "a.shape"
      ],
      "metadata": {
        "colab": {
          "base_uri": "https://localhost:8080/"
        },
        "id": "pYLMBdpWrqWT",
        "outputId": "dedb78a8-0ee1-4064-8f2e-e8a7e2fcd69c"
      },
      "execution_count": null,
      "outputs": [
        {
          "output_type": "execute_result",
          "data": {
            "text/plain": [
              "(2, 5)"
            ]
          },
          "metadata": {},
          "execution_count": 7
        }
      ]
    },
    {
      "cell_type": "code",
      "source": [
        "a.size"
      ],
      "metadata": {
        "colab": {
          "base_uri": "https://localhost:8080/"
        },
        "id": "0HHtoafLsW-z",
        "outputId": "25fd7c5e-94c6-4c05-d278-42252f999130"
      },
      "execution_count": null,
      "outputs": [
        {
          "output_type": "execute_result",
          "data": {
            "text/plain": [
              "10"
            ]
          },
          "metadata": {},
          "execution_count": 8
        }
      ]
    },
    {
      "cell_type": "code",
      "source": [
        "a.dtype"
      ],
      "metadata": {
        "colab": {
          "base_uri": "https://localhost:8080/"
        },
        "id": "k9aM7C8OsbAT",
        "outputId": "db4fa032-f80a-4ade-bce6-f4881ed46ef7"
      },
      "execution_count": null,
      "outputs": [
        {
          "output_type": "execute_result",
          "data": {
            "text/plain": [
              "dtype('float64')"
            ]
          },
          "metadata": {},
          "execution_count": 9
        }
      ]
    },
    {
      "cell_type": "code",
      "source": [
        "a"
      ],
      "metadata": {
        "colab": {
          "base_uri": "https://localhost:8080/"
        },
        "id": "_BeJS8p2sj4z",
        "outputId": "0f514d06-4971-4de2-bf00-6e0c6b971901"
      },
      "execution_count": null,
      "outputs": [
        {
          "output_type": "execute_result",
          "data": {
            "text/plain": [
              "array([[ 1.,  2.,  3.,  4.,  5.],\n",
              "       [ 6.,  7.,  8.,  9., 10.]])"
            ]
          },
          "metadata": {},
          "execution_count": 10
        }
      ]
    },
    {
      "cell_type": "code",
      "source": [
        "# Now we try to change the value\n",
        "a[0,1]=100\n",
        "a"
      ],
      "metadata": {
        "colab": {
          "base_uri": "https://localhost:8080/"
        },
        "id": "xky3cqdVtOvy",
        "outputId": "8b485278-5a66-46ed-97c4-697ff0782cb1"
      },
      "execution_count": null,
      "outputs": [
        {
          "output_type": "execute_result",
          "data": {
            "text/plain": [
              "array([[  1., 100.,   3.,   4.,   5.],\n",
              "       [  6.,   7.,   8.,   9.,  10.]])"
            ]
          },
          "metadata": {},
          "execution_count": 11
        }
      ]
    },
    {
      "cell_type": "markdown",
      "source": [
        "**Finding the dimensions of the array**"
      ],
      "metadata": {
        "id": "ggUUobx1vkZV"
      }
    },
    {
      "cell_type": "code",
      "source": [
        "a.ndim"
      ],
      "metadata": {
        "colab": {
          "base_uri": "https://localhost:8080/"
        },
        "id": "xYSGpiiwtW1C",
        "outputId": "b4fcc59b-dbdb-4d3b-9d04-bb3b72015a51"
      },
      "execution_count": null,
      "outputs": [
        {
          "output_type": "execute_result",
          "data": {
            "text/plain": [
              "2"
            ]
          },
          "metadata": {},
          "execution_count": 12
        }
      ]
    },
    {
      "cell_type": "markdown",
      "source": [
        "**Finding the size of each array element**"
      ],
      "metadata": {
        "id": "fR_NpxGZvtZT"
      }
    },
    {
      "cell_type": "code",
      "source": [
        "print(f\"{a.itemsize} bytes\")"
      ],
      "metadata": {
        "colab": {
          "base_uri": "https://localhost:8080/"
        },
        "id": "D9PE7loqvqZ0",
        "outputId": "0cb85579-2b46-42ce-b041-e9906e1665e7"
      },
      "execution_count": null,
      "outputs": [
        {
          "output_type": "stream",
          "name": "stdout",
          "text": [
            "8 bytes\n"
          ]
        }
      ]
    },
    {
      "cell_type": "markdown",
      "source": [
        "#**Reshaping the array objects:**<br>\n",
        "* By the shape of the array, we mean the number of rows and columns of a multi-dimensional array. However, the numpy module provides us the way to reshape the array by changing the number of rows and columns of the multi-dimensional array.\n",
        "\n",
        "* The reshape() function associated with the ndarray object is used to reshape the array. It accepts the two parameters indicating the row and columns of the new shape of the array."
      ],
      "metadata": {
        "id": "Rdpnf2B3wN_u"
      }
    },
    {
      "cell_type": "markdown",
      "source": [
        "![image3](https://numpy.org/devdocs/_images/np_reshape.png)"
      ],
      "metadata": {
        "id": "AShWvhNKwsOB"
      }
    },
    {
      "cell_type": "code",
      "source": [
        "arr2=np.array([[1,2,3],[4,5,6]])\n",
        "arr2"
      ],
      "metadata": {
        "colab": {
          "base_uri": "https://localhost:8080/"
        },
        "id": "zMeFAjXvv5ri",
        "outputId": "ea48b655-42ed-4faf-82c1-a39ba4f79c5e"
      },
      "execution_count": null,
      "outputs": [
        {
          "output_type": "execute_result",
          "data": {
            "text/plain": [
              "array([[1, 2, 3],\n",
              "       [4, 5, 6]])"
            ]
          },
          "metadata": {},
          "execution_count": 14
        }
      ]
    },
    {
      "cell_type": "code",
      "source": [
        "\n",
        "print(f\"Original element:\\n{arr2}\")\n",
        "\n",
        "# After reeshaping\n",
        "arr2=arr2.reshape(3,2)\n",
        "print(f\"After reshaping element:\\n{arr2}\")"
      ],
      "metadata": {
        "colab": {
          "base_uri": "https://localhost:8080/"
        },
        "id": "2yj5m81YxUsi",
        "outputId": "d14c94c1-dba9-4ab0-8f3c-3ccc60e07545"
      },
      "execution_count": null,
      "outputs": [
        {
          "output_type": "stream",
          "name": "stdout",
          "text": [
            "Original element:\n",
            "[[1 2 3]\n",
            " [4 5 6]]\n",
            "After reshaping element:\n",
            "[[1 2]\n",
            " [3 4]\n",
            " [5 6]]\n"
          ]
        }
      ]
    },
    {
      "cell_type": "markdown",
      "source": [
        "# **Slicing in the Array:**<br>\n",
        "Slicing in the NumPy array is the way to extract a range of elements from an array. Slicing in the array is performed in the same way as it is performed in the python list.\n",
        "\n",
        "Consider the following example to print a particular element of the array"
      ],
      "metadata": {
        "id": "R7trOavLzt5n"
      }
    },
    {
      "cell_type": "code",
      "source": [
        "arr2"
      ],
      "metadata": {
        "colab": {
          "base_uri": "https://localhost:8080/"
        },
        "id": "iTRDyi7fxsrg",
        "outputId": "6906cd05-6177-4fda-f717-44b5a57a0d79"
      },
      "execution_count": null,
      "outputs": [
        {
          "output_type": "execute_result",
          "data": {
            "text/plain": [
              "array([[1, 2],\n",
              "       [3, 4],\n",
              "       [5, 6]])"
            ]
          },
          "metadata": {},
          "execution_count": 16
        }
      ]
    },
    {
      "cell_type": "code",
      "source": [
        "print(arr2[0,1])"
      ],
      "metadata": {
        "colab": {
          "base_uri": "https://localhost:8080/"
        },
        "id": "GXmN_R3t0Bkx",
        "outputId": "0d7bbab6-84f3-41eb-ca79-0ef34f3e4273"
      },
      "execution_count": null,
      "outputs": [
        {
          "output_type": "stream",
          "name": "stdout",
          "text": [
            "2\n"
          ]
        }
      ]
    },
    {
      "cell_type": "code",
      "source": [
        "print(arr2[2,0])"
      ],
      "metadata": {
        "colab": {
          "base_uri": "https://localhost:8080/"
        },
        "id": "ITv4cu_S0NA8",
        "outputId": "8c65e4fe-b02c-4eb7-d980-8aeb816ba7fe"
      },
      "execution_count": null,
      "outputs": [
        {
          "output_type": "stream",
          "name": "stdout",
          "text": [
            "5\n"
          ]
        }
      ]
    },
    {
      "cell_type": "code",
      "source": [
        "print(arr2[1,0])"
      ],
      "metadata": {
        "colab": {
          "base_uri": "https://localhost:8080/"
        },
        "id": "Yvc8hkRW0XJz",
        "outputId": "525729be-b2ce-44a2-e948-867f1d27addf"
      },
      "execution_count": null,
      "outputs": [
        {
          "output_type": "stream",
          "name": "stdout",
          "text": [
            "3\n"
          ]
        }
      ]
    },
    {
      "cell_type": "markdown",
      "source": [
        "#**Linspace:**<br>\n",
        "The linspace() function returns the evenly spaced values over the given interval. "
      ],
      "metadata": {
        "id": "XYVE-io61x4O"
      }
    },
    {
      "cell_type": "code",
      "source": [
        "# Example -1\n",
        "num=np.linspace(1,10,5) #(start,stop,element_we_want)\n",
        "\n",
        "num"
      ],
      "metadata": {
        "colab": {
          "base_uri": "https://localhost:8080/"
        },
        "id": "M2rz-59H0cnx",
        "outputId": "e2cc09a8-0ed1-436c-f700-0628e662297f"
      },
      "execution_count": null,
      "outputs": [
        {
          "output_type": "execute_result",
          "data": {
            "text/plain": [
              "array([ 1.  ,  3.25,  5.5 ,  7.75, 10.  ])"
            ]
          },
          "metadata": {},
          "execution_count": 20
        }
      ]
    },
    {
      "cell_type": "code",
      "source": [
        "# Example -2\n",
        "num2=np.linspace(10,20,8)\n",
        "num2"
      ],
      "metadata": {
        "colab": {
          "base_uri": "https://localhost:8080/"
        },
        "id": "SNnACnyf2Rth",
        "outputId": "681ee94c-e3a0-4e73-ce67-bb9b4a699382"
      },
      "execution_count": null,
      "outputs": [
        {
          "output_type": "execute_result",
          "data": {
            "text/plain": [
              "array([10.        , 11.42857143, 12.85714286, 14.28571429, 15.71428571,\n",
              "       17.14285714, 18.57142857, 20.        ])"
            ]
          },
          "metadata": {},
          "execution_count": 21
        }
      ]
    },
    {
      "cell_type": "markdown",
      "source": [
        "#Finding the maximum, minimum, and sum of the array elements\n",
        "The NumPy provides the max(), min(), and sum() functions which are used to find the maximum, minimum, and sum of the array elements respectively"
      ],
      "metadata": {
        "id": "6_didHDc2_dI"
      }
    },
    {
      "cell_type": "code",
      "source": [
        "arr3=np.array([[10,20,30,40],[10,20,30,40]])\n",
        "arr3"
      ],
      "metadata": {
        "colab": {
          "base_uri": "https://localhost:8080/"
        },
        "id": "RgJ77lzc2uVo",
        "outputId": "e7491908-ad26-485d-a1d9-09cc21153e2a"
      },
      "execution_count": null,
      "outputs": [
        {
          "output_type": "execute_result",
          "data": {
            "text/plain": [
              "array([[10, 20, 30, 40],\n",
              "       [10, 20, 30, 40]])"
            ]
          },
          "metadata": {},
          "execution_count": 22
        }
      ]
    },
    {
      "cell_type": "code",
      "source": [
        "print(f\"Maximum Element is {arr3.max()}\")\n",
        "print(f\"Minimum Element is {arr3.min()}\")\n",
        "print(f\"Sum of element is {arr3.sum()}\")"
      ],
      "metadata": {
        "colab": {
          "base_uri": "https://localhost:8080/"
        },
        "id": "Z7vBZ3zt3RxQ",
        "outputId": "1961d6a8-1dd6-48f4-8d41-6c3d18e78bd1"
      },
      "execution_count": null,
      "outputs": [
        {
          "output_type": "stream",
          "name": "stdout",
          "text": [
            "Maximum Element is 40\n",
            "Minimum Element is 10\n",
            "Sum of element is 200\n"
          ]
        }
      ]
    },
    {
      "cell_type": "markdown",
      "source": [
        "# **NumPy Array Axis**\n",
        "A NumPy multi-dimensional array is represented by the axis where axis-0 represents the columns and axis-1 represents the rows. We can mention the axis to perform row-level or column-level calculations like the addition of row or column elements.\n",
        "\n",
        "To calculate the maximum element among each column, the minimum element among each row, and the addition of all the row elements"
      ],
      "metadata": {
        "id": "PJOqCjmw4CMa"
      }
    },
    {
      "cell_type": "code",
      "source": [
        "arr4=np.array([[1,2,3,4],[5,6,7,8]])\n",
        "arr4"
      ],
      "metadata": {
        "colab": {
          "base_uri": "https://localhost:8080/"
        },
        "id": "i9VE24br3VMw",
        "outputId": "75ee5751-ba04-4ede-eb29-d6c4de80647a"
      },
      "execution_count": null,
      "outputs": [
        {
          "output_type": "execute_result",
          "data": {
            "text/plain": [
              "array([[1, 2, 3, 4],\n",
              "       [5, 6, 7, 8]])"
            ]
          },
          "metadata": {},
          "execution_count": 24
        }
      ]
    },
    {
      "cell_type": "code",
      "source": [
        "# We perform the operations by specifying the axis\n",
        "\n",
        "# For Rows\n",
        "\n",
        "print(f\"The Minimun Element is {arr4.min(axis=1)}\") # axis=1(For rows)\n",
        "\n",
        "print(f\"The Maximum Element is {arr4.max(axis=1)}\") # axis=1(For rows)\n",
        "\n",
        "print(f\"The Sum of element is {arr4.sum(axis=1)}\")  # axis=1(For rows)"
      ],
      "metadata": {
        "colab": {
          "base_uri": "https://localhost:8080/"
        },
        "id": "L6nYDO3J4MAT",
        "outputId": "40084960-10f6-488b-e860-10ac5a882480"
      },
      "execution_count": null,
      "outputs": [
        {
          "output_type": "stream",
          "name": "stdout",
          "text": [
            "The Minimun Element is [1 5]\n",
            "The Maximum Element is [4 8]\n",
            "The Sum of element is [10 26]\n"
          ]
        }
      ]
    },
    {
      "cell_type": "code",
      "source": [
        "# For Columns\n",
        "\n",
        "print(f\"The Minimumm Element is {arr4.min(axis=0)}\") # axis=0(For columns)\n",
        "\n",
        "print(f\"The Maximum Element is {arr4.max(axis=0)}\")  # axis=0(For columns)\n",
        "\n",
        "print(f\"The Sum of Element is {arr4.sum(axis=0)}\")   # axis=0(For columns)"
      ],
      "metadata": {
        "colab": {
          "base_uri": "https://localhost:8080/"
        },
        "id": "eP_GoYvK4iF3",
        "outputId": "16a4c167-a0f8-4a82-be3b-5c2b9131d6dd"
      },
      "execution_count": null,
      "outputs": [
        {
          "output_type": "stream",
          "name": "stdout",
          "text": [
            "The Minimumm Element is [1 2 3 4]\n",
            "The Maximum Element is [5 6 7 8]\n",
            "The Sum of Element is [ 6  8 10 12]\n"
          ]
        }
      ]
    },
    {
      "cell_type": "markdown",
      "source": [
        "#**Finding square root and standard deviation**\n",
        "The sqrt() and std() functions associated with the numpy array are used to find the square root and standard deviation of the array elements respectively.\n",
        "\n",
        "Standard deviation means how much each element of the array varies from the mean value of the numpy array."
      ],
      "metadata": {
        "id": "3OF1ltNe7DQK"
      }
    },
    {
      "cell_type": "code",
      "source": [
        "print(f\"Square root of array :{np.sqrt(arr4)}\\n\")\n",
        "\n",
        "print(f\"Standard devication of array :{np.std(arr4)}\")"
      ],
      "metadata": {
        "colab": {
          "base_uri": "https://localhost:8080/"
        },
        "id": "InmutJLz6Oeo",
        "outputId": "0c966ea2-d6c5-429f-b562-55b93964019a"
      },
      "execution_count": null,
      "outputs": [
        {
          "output_type": "stream",
          "name": "stdout",
          "text": [
            "Square root of array :[[1.         1.41421356 1.73205081 2.        ]\n",
            " [2.23606798 2.44948974 2.64575131 2.82842712]]\n",
            "\n",
            "Standard devication of array :2.29128784747792\n"
          ]
        }
      ]
    },
    {
      "cell_type": "markdown",
      "source": [
        "#**Arithmetic operations on the array**\n",
        "The numpy module allows us to perform the arithmetic operations on multi-dimensional arrays directly.\n",
        "\n",
        "In the following example, the arithmetic operations are performed on the two multi-dimensional arrays a and b."
      ],
      "metadata": {
        "id": "8IJ8Q64R789V"
      }
    },
    {
      "cell_type": "code",
      "source": [
        "a=np.array([[1,2,3,4],[5,6,7,8]])\n",
        "\n",
        "b=np.array([[1,2,3,4],[5,6,7,8]])\n",
        "\n",
        "print(f\"Addition :\\n{a+b}\")\n",
        "\n",
        "print(f\"\\nSubstraction:\\n{a-b}\")\n",
        "\n",
        "print(f\"\\nDivision:\\n{a/b}\")"
      ],
      "metadata": {
        "colab": {
          "base_uri": "https://localhost:8080/"
        },
        "id": "LI_2pBSh7TDB",
        "outputId": "f633f616-8c0f-4d34-8c0f-3278c976c2b7"
      },
      "execution_count": null,
      "outputs": [
        {
          "output_type": "stream",
          "name": "stdout",
          "text": [
            "Addition :\n",
            "[[ 2  4  6  8]\n",
            " [10 12 14 16]]\n",
            "\n",
            "Substraction:\n",
            "[[0 0 0 0]\n",
            " [0 0 0 0]]\n",
            "\n",
            "Division:\n",
            "[[1. 1. 1. 1.]\n",
            " [1. 1. 1. 1.]]\n"
          ]
        }
      ]
    },
    {
      "cell_type": "markdown",
      "source": [
        "#**Array Concatenation**\n",
        "The numpy provides us with the vertical stacking and horizontal stacking which allows us to concatenate two multi-dimensional arrays vertically or horizontally"
      ],
      "metadata": {
        "id": "dtujGJjX8_TU"
      }
    },
    {
      "cell_type": "code",
      "source": [
        "a"
      ],
      "metadata": {
        "colab": {
          "base_uri": "https://localhost:8080/"
        },
        "id": "jRlmGdu68aEZ",
        "outputId": "3376da4b-8e26-4dc0-fb53-d9fb5e25724f"
      },
      "execution_count": null,
      "outputs": [
        {
          "output_type": "execute_result",
          "data": {
            "text/plain": [
              "array([[1, 2, 3, 4],\n",
              "       [5, 6, 7, 8]])"
            ]
          },
          "metadata": {},
          "execution_count": 29
        }
      ]
    },
    {
      "cell_type": "code",
      "source": [
        "b"
      ],
      "metadata": {
        "colab": {
          "base_uri": "https://localhost:8080/"
        },
        "id": "86f7RYbM9FfX",
        "outputId": "59286f79-10c8-45f2-c5d6-19c0adbc9f96"
      },
      "execution_count": null,
      "outputs": [
        {
          "output_type": "execute_result",
          "data": {
            "text/plain": [
              "array([[1, 2, 3, 4],\n",
              "       [5, 6, 7, 8]])"
            ]
          },
          "metadata": {},
          "execution_count": 30
        }
      ]
    },
    {
      "cell_type": "code",
      "source": [
        "print(f\"The verically concated array is\\n {np.vstack((a,b))}\")\n",
        "\n",
        "print(f\"\\nThe Horizontally concated array is\\n{np.hstack((a,b))}\")"
      ],
      "metadata": {
        "colab": {
          "base_uri": "https://localhost:8080/"
        },
        "id": "q2j_Dqyq9IGW",
        "outputId": "5cd65279-b00c-443f-d27f-100750e3a29b"
      },
      "execution_count": null,
      "outputs": [
        {
          "output_type": "stream",
          "name": "stdout",
          "text": [
            "The verically concated array is\n",
            " [[1 2 3 4]\n",
            " [5 6 7 8]\n",
            " [1 2 3 4]\n",
            " [5 6 7 8]]\n",
            "\n",
            "The Horizontally concated array is\n",
            "[[1 2 3 4 1 2 3 4]\n",
            " [5 6 7 8 5 6 7 8]]\n"
          ]
        }
      ]
    },
    {
      "cell_type": "markdown",
      "source": [
        "#**creating numpy array using the list**"
      ],
      "metadata": {
        "id": "QqSK8lkN90fG"
      }
    },
    {
      "cell_type": "code",
      "source": [
        "list1=[10,20,30,40]\n",
        "\n",
        "n1=np.asarray(list1)\n",
        "\n",
        "print(n1)\n",
        "print(type(n1))"
      ],
      "metadata": {
        "colab": {
          "base_uri": "https://localhost:8080/"
        },
        "id": "yUrkulzK9R62",
        "outputId": "9536fb74-dc99-42b7-b4e1-f7bd6fbabafc"
      },
      "execution_count": null,
      "outputs": [
        {
          "output_type": "stream",
          "name": "stdout",
          "text": [
            "[10 20 30 40]\n",
            "<class 'numpy.ndarray'>\n"
          ]
        }
      ]
    },
    {
      "cell_type": "markdown",
      "source": [
        "# **Numpy.arrange**\n",
        "* It creates an array by using the evenly spaced values over the given interval. The syntax to use the function is given below.\n",
        "\n",
        "* numpy.arrange(start, stop, step, dtype)\n",
        "\n",
        "**It accepts the following parameters.**<br>\n",
        "\n",
        "**start:** The starting of an interval. The default is 0.\n",
        "\n",
        "**stop:** represents the value at which the interval ends excluding this value.\n",
        "\n",
        "**step:**The number by which the interval values change.\n",
        "\n",
        "**dtype:** the data type of the numpy array items."
      ],
      "metadata": {
        "id": "lV4yKYwtl3TC"
      }
    },
    {
      "cell_type": "code",
      "source": [
        "# Example-1\n",
        "arr6=np.arange(1,10,2,int) # (start,stop,skip,dtype)\n",
        "\n",
        "print(arr6)"
      ],
      "metadata": {
        "id": "hVeFlJUQ-GF_",
        "colab": {
          "base_uri": "https://localhost:8080/"
        },
        "outputId": "0d52ff0f-d32f-4898-ef60-84f2d698684b"
      },
      "execution_count": null,
      "outputs": [
        {
          "output_type": "stream",
          "name": "stdout",
          "text": [
            "[1 3 5 7 9]\n"
          ]
        }
      ]
    },
    {
      "cell_type": "code",
      "source": [
        "# Example-2\n",
        "\n",
        "arr7=np.arange(10,30,3,float) #(start,stop,skip,dtype)\n",
        "print(arr7)"
      ],
      "metadata": {
        "colab": {
          "base_uri": "https://localhost:8080/"
        },
        "id": "uPD-6gEPm1kY",
        "outputId": "97acffa4-6834-472f-d820-443cf9a4076a"
      },
      "execution_count": null,
      "outputs": [
        {
          "output_type": "stream",
          "name": "stdout",
          "text": [
            "[10. 13. 16. 19. 22. 25. 28.]\n"
          ]
        }
      ]
    },
    {
      "cell_type": "code",
      "source": [
        "# Example-3\n",
        "\n",
        "arr8=np.arange(1,10,1,complex) # (start,stop,dtype)\n",
        "\n",
        "print(arr8)"
      ],
      "metadata": {
        "colab": {
          "base_uri": "https://localhost:8080/"
        },
        "id": "DjWtt_VxnR9m",
        "outputId": "151aec0e-0aec-4b43-8b37-764b00ad6d01"
      },
      "execution_count": null,
      "outputs": [
        {
          "output_type": "stream",
          "name": "stdout",
          "text": [
            "[1.+0.j 2.+0.j 3.+0.j 4.+0.j 5.+0.j 6.+0.j 7.+0.j 8.+0.j 9.+0.j]\n"
          ]
        }
      ]
    },
    {
      "cell_type": "markdown",
      "source": [
        "# **NumPy Mathematical Functions**\n",
        "Numpy contains a large number of mathematical functions which can be used to perform various mathematical operations. The mathematical functions include trigonometric functions, arithmetic functions, and functions for handling complex numbers. Let's discuss the mathematical functions.\n",
        "\n",
        "Trigonometric functions\n",
        "Numpy contains the trigonometric functions which are used to calculate the sine, cosine, and tangent of the different angles in radian."
      ],
      "metadata": {
        "id": "WjcNgwMkoOnN"
      }
    },
    {
      "cell_type": "code",
      "source": [
        "arr9=np.array([30,45,60,90,180])\n",
        "arr9"
      ],
      "metadata": {
        "colab": {
          "base_uri": "https://localhost:8080/"
        },
        "id": "-vvaKLX6nfX-",
        "outputId": "a970dce8-9692-4b76-ee7b-fc88fea35113"
      },
      "execution_count": null,
      "outputs": [
        {
          "output_type": "execute_result",
          "data": {
            "text/plain": [
              "array([ 30,  45,  60,  90, 180])"
            ]
          },
          "metadata": {},
          "execution_count": 36
        }
      ]
    },
    {
      "cell_type": "code",
      "source": [
        "# Now we use trignometric functions in numpy\n",
        "\n",
        "print(f\"The sin value is : {np.sin(arr9 * np.pi /180)}\\n\")\n",
        "\n",
        "print(f\"The cos value is : {np.cos(arr9 * np.pi /180)}\\n\")\n",
        "\n",
        "print(f\"The tan value is :{np.tan(arr9 * np.pi /180)}\\n\")"
      ],
      "metadata": {
        "colab": {
          "base_uri": "https://localhost:8080/"
        },
        "id": "vSjs-_4DoVwu",
        "outputId": "d5dc92d0-7bfc-422b-d8d1-c17e60ef0e10"
      },
      "execution_count": null,
      "outputs": [
        {
          "output_type": "stream",
          "name": "stdout",
          "text": [
            "The sin value is : [5.00000000e-01 7.07106781e-01 8.66025404e-01 1.00000000e+00\n",
            " 1.22464680e-16]\n",
            "\n",
            "The cos value is : [ 8.66025404e-01  7.07106781e-01  5.00000000e-01  6.12323400e-17\n",
            " -1.00000000e+00]\n",
            "\n",
            "The tan value is :[ 5.77350269e-01  1.00000000e+00  1.73205081e+00  1.63312394e+16\n",
            " -1.22464680e-16]\n",
            "\n"
          ]
        }
      ]
    },
    {
      "cell_type": "markdown",
      "source": [
        "# **numpy.where() function**\n",
        " This function is used to return the indices of all the elements which satisfies a particular condition"
      ],
      "metadata": {
        "id": "gwa5ZT-KpmyH"
      }
    },
    {
      "cell_type": "code",
      "source": [
        "a=np.array([[10,20,30,5],[45,9,8,22]])  # For Multidimensional array\n",
        "\n",
        "print(np.where(a>15))"
      ],
      "metadata": {
        "colab": {
          "base_uri": "https://localhost:8080/"
        },
        "id": "rUf-Ll5CpEtx",
        "outputId": "20c811b1-369d-4ef3-8747-3d3833386862"
      },
      "execution_count": null,
      "outputs": [
        {
          "output_type": "stream",
          "name": "stdout",
          "text": [
            "(array([0, 0, 1, 1]), array([1, 2, 0, 3]))\n"
          ]
        }
      ]
    },
    {
      "cell_type": "code",
      "source": [
        "b=np.array([100,115,120,60,90,80,55]) # For single dimensional array\n",
        "\n",
        "print(np.where(b>85))"
      ],
      "metadata": {
        "colab": {
          "base_uri": "https://localhost:8080/"
        },
        "id": "QgPeS8nkqBNV",
        "outputId": "c8b0708e-6e8f-4096-91de-b1604acdbccd"
      },
      "execution_count": null,
      "outputs": [
        {
          "output_type": "stream",
          "name": "stdout",
          "text": [
            "(array([0, 1, 2, 4]),)\n"
          ]
        }
      ]
    },
    {
      "cell_type": "markdown",
      "source": [
        "# NumPy Linear Algebra\n",
        "Numpy provides the following functions to perform the different algebraic calculations on the input data."
      ],
      "metadata": {
        "id": "LXqaR6hDrB2A"
      }
    },
    {
      "cell_type": "markdown",
      "source": [
        "![image.png](data:image/png;base64,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)"
      ],
      "metadata": {
        "id": "tX1nR_AqrFcN"
      }
    },
    {
      "cell_type": "markdown",
      "source": [
        "# **numpy.dot() function**\n",
        "This function is used to return the dot product of the two matrices. It is similar to the matrix multiplication. Consider the following example"
      ],
      "metadata": {
        "id": "UJ-PpC4Jrua8"
      }
    },
    {
      "cell_type": "code",
      "source": [
        "a = np.array([[100,200],[23,12]])  \n",
        "b = np.array([[10,20],[12,21]])  \n",
        "dot = np.dot(a,b)  \n",
        "print(dot)"
      ],
      "metadata": {
        "colab": {
          "base_uri": "https://localhost:8080/"
        },
        "id": "EOjexkSHsP37",
        "outputId": "d7a37564-1261-41ba-f4fb-a1beb1ac5cd5"
      },
      "execution_count": null,
      "outputs": [
        {
          "output_type": "stream",
          "name": "stdout",
          "text": [
            "[[3400 6200]\n",
            " [ 374  712]]\n"
          ]
        }
      ]
    },
    {
      "cell_type": "markdown",
      "source": [
        "# numpy.vdot() function\n",
        "This function is used to calculate the dot product of two vectors. It can be defined as the sum of the product of corresponding elements of multi-dimensional arrays"
      ],
      "metadata": {
        "id": "VcVX1ymNvMIh"
      }
    },
    {
      "cell_type": "code",
      "source": [
        "e=np.array([[10,20],[30,40]])\n",
        "f=np.array([[300,400],[100,200]])\n",
        "\n",
        "vdot=np.vdot(e,f)\n",
        "print(vdot)"
      ],
      "metadata": {
        "colab": {
          "base_uri": "https://localhost:8080/"
        },
        "id": "FvIi9ijsvLrK",
        "outputId": "33b960ae-f8d3-44ac-e0df-d8a92cd0593b"
      },
      "execution_count": null,
      "outputs": [
        {
          "output_type": "stream",
          "name": "stdout",
          "text": [
            "22000\n"
          ]
        }
      ]
    },
    {
      "cell_type": "markdown",
      "source": [
        "# **numpy.matmul() function**\n",
        "It is used to return the multiplication of the two matrices. It gives an error if the shape of both matrices is not aligned for multiplication. Consider the following example"
      ],
      "metadata": {
        "id": "NtOvZWrowFaR"
      }
    },
    {
      "cell_type": "code",
      "source": [
        "g=np.array([[100,200],[600,800]])\n",
        "h=np.array([[700,800],[100,200]])\n",
        "\n",
        "matmul=np.matmul(g,h)\n",
        "print(matmul)"
      ],
      "metadata": {
        "colab": {
          "base_uri": "https://localhost:8080/"
        },
        "id": "wtOQ4cbPvZbb",
        "outputId": "32da4fcf-57f3-499e-830c-49941a9ef1fd"
      },
      "execution_count": null,
      "outputs": [
        {
          "output_type": "stream",
          "name": "stdout",
          "text": [
            "[[ 90000 120000]\n",
            " [500000 640000]]\n"
          ]
        }
      ]
    }
  ]
}